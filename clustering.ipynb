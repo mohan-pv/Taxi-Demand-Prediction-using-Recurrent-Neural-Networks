{
 "cells": [
  {
   "cell_type": "code",
   "execution_count": 95,
   "metadata": {},
   "outputs": [],
   "source": [
    "import numpy as np\n",
    "import pandas as pd \n",
    "import matplotlib.pyplot as plt \n",
    "from sklearn.cluster import KMeans\n",
    "import folium\n",
    "from keras.preprocessing.sequence import TimeseriesGenerator"
   ]
  },
  {
   "cell_type": "code",
   "execution_count": 96,
   "metadata": {},
   "outputs": [],
   "source": [
    "data = pd.read_csv(\"MOCK_DATA (3).csv\",index_col='Date1',parse_dates=True)\n",
    "data.index.freq = 'MS'"
   ]
  },
  {
   "cell_type": "code",
   "execution_count": 97,
   "metadata": {},
   "outputs": [],
   "source": [
    "x = data.iloc[:,2:5]\n"
   ]
  },
  {
   "cell_type": "code",
   "execution_count": 98,
   "metadata": {},
   "outputs": [
    {
     "name": "stderr",
     "output_type": "stream",
     "text": [
      "C:\\Users\\user 2\\AppData\\Local\\Packages\\PythonSoftwareFoundation.Python.3.10_qbz5n2kfra8p0\\LocalCache\\local-packages\\Python310\\site-packages\\sklearn\\cluster\\_kmeans.py:870: FutureWarning: The default value of `n_init` will change from 10 to 'auto' in 1.4. Set the value of `n_init` explicitly to suppress the warning\n",
      "  warnings.warn(\n"
     ]
    },
    {
     "data": {
      "text/html": [
       "<style>#sk-container-id-4 {color: black;background-color: white;}#sk-container-id-4 pre{padding: 0;}#sk-container-id-4 div.sk-toggleable {background-color: white;}#sk-container-id-4 label.sk-toggleable__label {cursor: pointer;display: block;width: 100%;margin-bottom: 0;padding: 0.3em;box-sizing: border-box;text-align: center;}#sk-container-id-4 label.sk-toggleable__label-arrow:before {content: \"▸\";float: left;margin-right: 0.25em;color: #696969;}#sk-container-id-4 label.sk-toggleable__label-arrow:hover:before {color: black;}#sk-container-id-4 div.sk-estimator:hover label.sk-toggleable__label-arrow:before {color: black;}#sk-container-id-4 div.sk-toggleable__content {max-height: 0;max-width: 0;overflow: hidden;text-align: left;background-color: #f0f8ff;}#sk-container-id-4 div.sk-toggleable__content pre {margin: 0.2em;color: black;border-radius: 0.25em;background-color: #f0f8ff;}#sk-container-id-4 input.sk-toggleable__control:checked~div.sk-toggleable__content {max-height: 200px;max-width: 100%;overflow: auto;}#sk-container-id-4 input.sk-toggleable__control:checked~label.sk-toggleable__label-arrow:before {content: \"▾\";}#sk-container-id-4 div.sk-estimator input.sk-toggleable__control:checked~label.sk-toggleable__label {background-color: #d4ebff;}#sk-container-id-4 div.sk-label input.sk-toggleable__control:checked~label.sk-toggleable__label {background-color: #d4ebff;}#sk-container-id-4 input.sk-hidden--visually {border: 0;clip: rect(1px 1px 1px 1px);clip: rect(1px, 1px, 1px, 1px);height: 1px;margin: -1px;overflow: hidden;padding: 0;position: absolute;width: 1px;}#sk-container-id-4 div.sk-estimator {font-family: monospace;background-color: #f0f8ff;border: 1px dotted black;border-radius: 0.25em;box-sizing: border-box;margin-bottom: 0.5em;}#sk-container-id-4 div.sk-estimator:hover {background-color: #d4ebff;}#sk-container-id-4 div.sk-parallel-item::after {content: \"\";width: 100%;border-bottom: 1px solid gray;flex-grow: 1;}#sk-container-id-4 div.sk-label:hover label.sk-toggleable__label {background-color: #d4ebff;}#sk-container-id-4 div.sk-serial::before {content: \"\";position: absolute;border-left: 1px solid gray;box-sizing: border-box;top: 0;bottom: 0;left: 50%;z-index: 0;}#sk-container-id-4 div.sk-serial {display: flex;flex-direction: column;align-items: center;background-color: white;padding-right: 0.2em;padding-left: 0.2em;position: relative;}#sk-container-id-4 div.sk-item {position: relative;z-index: 1;}#sk-container-id-4 div.sk-parallel {display: flex;align-items: stretch;justify-content: center;background-color: white;position: relative;}#sk-container-id-4 div.sk-item::before, #sk-container-id-4 div.sk-parallel-item::before {content: \"\";position: absolute;border-left: 1px solid gray;box-sizing: border-box;top: 0;bottom: 0;left: 50%;z-index: -1;}#sk-container-id-4 div.sk-parallel-item {display: flex;flex-direction: column;z-index: 1;position: relative;background-color: white;}#sk-container-id-4 div.sk-parallel-item:first-child::after {align-self: flex-end;width: 50%;}#sk-container-id-4 div.sk-parallel-item:last-child::after {align-self: flex-start;width: 50%;}#sk-container-id-4 div.sk-parallel-item:only-child::after {width: 0;}#sk-container-id-4 div.sk-dashed-wrapped {border: 1px dashed gray;margin: 0 0.4em 0.5em 0.4em;box-sizing: border-box;padding-bottom: 0.4em;background-color: white;}#sk-container-id-4 div.sk-label label {font-family: monospace;font-weight: bold;display: inline-block;line-height: 1.2em;}#sk-container-id-4 div.sk-label-container {text-align: center;}#sk-container-id-4 div.sk-container {/* jupyter's `normalize.less` sets `[hidden] { display: none; }` but bootstrap.min.css set `[hidden] { display: none !important; }` so we also need the `!important` here to be able to override the default hidden behavior on the sphinx rendered scikit-learn.org. See: https://github.com/scikit-learn/scikit-learn/issues/21755 */display: inline-block !important;position: relative;}#sk-container-id-4 div.sk-text-repr-fallback {display: none;}</style><div id=\"sk-container-id-4\" class=\"sk-top-container\"><div class=\"sk-text-repr-fallback\"><pre>KMeans(n_clusters=4)</pre><b>In a Jupyter environment, please rerun this cell to show the HTML representation or trust the notebook. <br />On GitHub, the HTML representation is unable to render, please try loading this page with nbviewer.org.</b></div><div class=\"sk-container\" hidden><div class=\"sk-item\"><div class=\"sk-estimator sk-toggleable\"><input class=\"sk-toggleable__control sk-hidden--visually\" id=\"sk-estimator-id-4\" type=\"checkbox\" checked><label for=\"sk-estimator-id-4\" class=\"sk-toggleable__label sk-toggleable__label-arrow\">KMeans</label><div class=\"sk-toggleable__content\"><pre>KMeans(n_clusters=4)</pre></div></div></div></div></div>"
      ],
      "text/plain": [
       "KMeans(n_clusters=4)"
      ]
     },
     "execution_count": 98,
     "metadata": {},
     "output_type": "execute_result"
    }
   ],
   "source": [
    "kmeans = KMeans(4)\n",
    "kmeans.fit(x) "
   ]
  },
  {
   "cell_type": "code",
   "execution_count": 118,
   "metadata": {},
   "outputs": [
    {
     "name": "stderr",
     "output_type": "stream",
     "text": [
      "C:\\Users\\user 2\\AppData\\Local\\Packages\\PythonSoftwareFoundation.Python.3.10_qbz5n2kfra8p0\\LocalCache\\local-packages\\Python310\\site-packages\\sklearn\\cluster\\_kmeans.py:870: FutureWarning: The default value of `n_init` will change from 10 to 'auto' in 1.4. Set the value of `n_init` explicitly to suppress the warning\n",
      "  warnings.warn(\n"
     ]
    }
   ],
   "source": [
    "identified_clusters = kmeans.fit_predict(x)\n"
   ]
  },
  {
   "cell_type": "code",
   "execution_count": 100,
   "metadata": {},
   "outputs": [],
   "source": [
    "data_with_clusters = data.copy()\n",
    "data_with_clusters['Cluster'] = identified_clusters\n"
   ]
  },
  {
   "cell_type": "code",
   "execution_count": 127,
   "metadata": {},
   "outputs": [
    {
     "data": {
      "text/html": [
       "<div>\n",
       "<style scoped>\n",
       "    .dataframe tbody tr th:only-of-type {\n",
       "        vertical-align: middle;\n",
       "    }\n",
       "\n",
       "    .dataframe tbody tr th {\n",
       "        vertical-align: top;\n",
       "    }\n",
       "\n",
       "    .dataframe thead th {\n",
       "        text-align: right;\n",
       "    }\n",
       "</style>\n",
       "<table border=\"1\" class=\"dataframe\">\n",
       "  <thead>\n",
       "    <tr style=\"text-align: right;\">\n",
       "      <th></th>\n",
       "      <th>Pickups</th>\n",
       "      <th>Time</th>\n",
       "      <th>Lattitude</th>\n",
       "      <th>Longitude</th>\n",
       "      <th>Cluster</th>\n",
       "    </tr>\n",
       "    <tr>\n",
       "      <th>Date1</th>\n",
       "      <th></th>\n",
       "      <th></th>\n",
       "      <th></th>\n",
       "      <th></th>\n",
       "      <th></th>\n",
       "    </tr>\n",
       "  </thead>\n",
       "  <tbody>\n",
       "    <tr>\n",
       "      <th>2022-07-01</th>\n",
       "      <td>44</td>\n",
       "      <td>23:28:45</td>\n",
       "      <td>12.985077</td>\n",
       "      <td>80.208673</td>\n",
       "      <td>1</td>\n",
       "    </tr>\n",
       "    <tr>\n",
       "      <th>2023-07-01</th>\n",
       "      <td>10</td>\n",
       "      <td>23:18:15</td>\n",
       "      <td>13.014259</td>\n",
       "      <td>80.222632</td>\n",
       "      <td>1</td>\n",
       "    </tr>\n",
       "    <tr>\n",
       "      <th>2021-06-01</th>\n",
       "      <td>11</td>\n",
       "      <td>14:35:58</td>\n",
       "      <td>12.996587</td>\n",
       "      <td>80.240711</td>\n",
       "      <td>1</td>\n",
       "    </tr>\n",
       "    <tr>\n",
       "      <th>2023-06-01</th>\n",
       "      <td>28</td>\n",
       "      <td>13:11:08</td>\n",
       "      <td>12.971601</td>\n",
       "      <td>80.235667</td>\n",
       "      <td>1</td>\n",
       "    </tr>\n",
       "    <tr>\n",
       "      <th>2022-11-01</th>\n",
       "      <td>26</td>\n",
       "      <td>2:43:55</td>\n",
       "      <td>12.991364</td>\n",
       "      <td>80.206460</td>\n",
       "      <td>1</td>\n",
       "    </tr>\n",
       "    <tr>\n",
       "      <th>2022-08-01</th>\n",
       "      <td>36</td>\n",
       "      <td>2:22:22</td>\n",
       "      <td>13.012365</td>\n",
       "      <td>80.202612</td>\n",
       "      <td>1</td>\n",
       "    </tr>\n",
       "    <tr>\n",
       "      <th>2021-12-01</th>\n",
       "      <td>17</td>\n",
       "      <td>1:14:53</td>\n",
       "      <td>13.001165</td>\n",
       "      <td>80.227373</td>\n",
       "      <td>1</td>\n",
       "    </tr>\n",
       "  </tbody>\n",
       "</table>\n",
       "</div>"
      ],
      "text/plain": [
       "            Pickups      Time  Lattitude  Longitude  Cluster\n",
       "Date1                                                       \n",
       "2022-07-01       44  23:28:45  12.985077  80.208673        1\n",
       "2023-07-01       10  23:18:15  13.014259  80.222632        1\n",
       "2021-06-01       11  14:35:58  12.996587  80.240711        1\n",
       "2023-06-01       28  13:11:08  12.971601  80.235667        1\n",
       "2022-11-01       26   2:43:55  12.991364  80.206460        1\n",
       "2022-08-01       36   2:22:22  13.012365  80.202612        1\n",
       "2021-12-01       17   1:14:53  13.001165  80.227373        1"
      ]
     },
     "execution_count": 127,
     "metadata": {},
     "output_type": "execute_result"
    }
   ],
   "source": [
    "xdata = data_with_clusters.sort_values(by=\"Cluster\")\n",
    "xdata = xdata.iloc[4:11,]"
   ]
  },
  {
   "cell_type": "code",
   "execution_count": 134,
   "metadata": {},
   "outputs": [],
   "source": [
    "\n",
    "map10 = folium.Map(location=[13.081689, 80.269032],tiles=\"Stamen Toner\")\n",
    "for i,j in xdata.iterrows():\n",
    "    folium.Circle(\n",
    "    radius=j['Pickups']*10,\n",
    "    location=[j['Lattitude'],j['Longitude']],\n",
    "    popup=\"Demand\",\n",
    "    color=\"crimson\",\n",
    "    fill=True,\n",
    ").add_to(map10)\n"
   ]
  },
  {
   "cell_type": "code",
   "execution_count": null,
   "metadata": {},
   "outputs": [],
   "source": []
  },
  {
   "attachments": {},
   "cell_type": "markdown",
   "metadata": {},
   "source": [
    "Training And Testing\n"
   ]
  },
  {
   "cell_type": "code",
   "execution_count": 103,
   "metadata": {},
   "outputs": [
    {
     "data": {
      "text/html": [
       "<div>\n",
       "<style scoped>\n",
       "    .dataframe tbody tr th:only-of-type {\n",
       "        vertical-align: middle;\n",
       "    }\n",
       "\n",
       "    .dataframe tbody tr th {\n",
       "        vertical-align: top;\n",
       "    }\n",
       "\n",
       "    .dataframe thead th {\n",
       "        text-align: right;\n",
       "    }\n",
       "</style>\n",
       "<table border=\"1\" class=\"dataframe\">\n",
       "  <thead>\n",
       "    <tr style=\"text-align: right;\">\n",
       "      <th></th>\n",
       "      <th>Pickups</th>\n",
       "      <th>Time</th>\n",
       "      <th>Lattitude</th>\n",
       "      <th>Longitude</th>\n",
       "      <th>Cluster</th>\n",
       "    </tr>\n",
       "    <tr>\n",
       "      <th>Date1</th>\n",
       "      <th></th>\n",
       "      <th></th>\n",
       "      <th></th>\n",
       "      <th></th>\n",
       "      <th></th>\n",
       "    </tr>\n",
       "  </thead>\n",
       "  <tbody>\n",
       "    <tr>\n",
       "      <th>2021-01-01</th>\n",
       "      <td>48</td>\n",
       "      <td>1:47:14</td>\n",
       "      <td>12.904861</td>\n",
       "      <td>80.235158</td>\n",
       "      <td>2</td>\n",
       "    </tr>\n",
       "    <tr>\n",
       "      <th>2021-02-01</th>\n",
       "      <td>19</td>\n",
       "      <td>6:30:25</td>\n",
       "      <td>12.926894</td>\n",
       "      <td>80.198804</td>\n",
       "      <td>2</td>\n",
       "    </tr>\n",
       "    <tr>\n",
       "      <th>2021-03-01</th>\n",
       "      <td>20</td>\n",
       "      <td>9:06:50</td>\n",
       "      <td>12.941212</td>\n",
       "      <td>80.201115</td>\n",
       "      <td>2</td>\n",
       "    </tr>\n",
       "    <tr>\n",
       "      <th>2021-04-01</th>\n",
       "      <td>23</td>\n",
       "      <td>7:16:07</td>\n",
       "      <td>12.913970</td>\n",
       "      <td>80.232802</td>\n",
       "      <td>2</td>\n",
       "    </tr>\n",
       "    <tr>\n",
       "      <th>2021-05-01</th>\n",
       "      <td>20</td>\n",
       "      <td>18:10:45</td>\n",
       "      <td>13.048809</td>\n",
       "      <td>80.212946</td>\n",
       "      <td>3</td>\n",
       "    </tr>\n",
       "    <tr>\n",
       "      <th>2021-06-01</th>\n",
       "      <td>11</td>\n",
       "      <td>14:35:58</td>\n",
       "      <td>12.996587</td>\n",
       "      <td>80.240711</td>\n",
       "      <td>1</td>\n",
       "    </tr>\n",
       "  </tbody>\n",
       "</table>\n",
       "</div>"
      ],
      "text/plain": [
       "            Pickups      Time  Lattitude  Longitude  Cluster\n",
       "Date1                                                       \n",
       "2021-01-01       48   1:47:14  12.904861  80.235158        2\n",
       "2021-02-01       19   6:30:25  12.926894  80.198804        2\n",
       "2021-03-01       20   9:06:50  12.941212  80.201115        2\n",
       "2021-04-01       23   7:16:07  12.913970  80.232802        2\n",
       "2021-05-01       20  18:10:45  13.048809  80.212946        3\n",
       "2021-06-01       11  14:35:58  12.996587  80.240711        1"
      ]
     },
     "execution_count": 103,
     "metadata": {},
     "output_type": "execute_result"
    }
   ],
   "source": [
    "train = data_with_clusters.iloc[:30]\n",
    "test = data_with_clusters.iloc[0:6]\n",
    "test\n"
   ]
  },
  {
   "cell_type": "code",
   "execution_count": 104,
   "metadata": {},
   "outputs": [
    {
     "name": "stderr",
     "output_type": "stream",
     "text": [
      "C:\\Users\\user 2\\AppData\\Local\\Packages\\PythonSoftwareFoundation.Python.3.10_qbz5n2kfra8p0\\LocalCache\\local-packages\\Python310\\site-packages\\sklearn\\base.py:420: UserWarning: X does not have valid feature names, but KMeans was fitted with feature names\n",
      "  warnings.warn(\n"
     ]
    },
    {
     "data": {
      "text/plain": [
       "array([1])"
      ]
     },
     "execution_count": 104,
     "metadata": {},
     "output_type": "execute_result"
    }
   ],
   "source": [
    "arr = [[12.99029982,80.22106985]]\n",
    "trys = kmeans.predict(arr)\n",
    "trys"
   ]
  },
  {
   "cell_type": "code",
   "execution_count": 105,
   "metadata": {},
   "outputs": [],
   "source": [
    "from sklearn.preprocessing import MinMaxScaler\n",
    "scaler = MinMaxScaler()\n",
    "train1 = train.drop(['Time','Cluster','Pickups'],axis=1)\n",
    "test1 = test.drop(['Time','Cluster','Pickups'],axis=1)"
   ]
  },
  {
   "cell_type": "code",
   "execution_count": 106,
   "metadata": {},
   "outputs": [
    {
     "data": {
      "text/plain": [
       "array([[0.06978319, 0.88489187],\n",
       "       [0.16249983, 0.13132262],\n",
       "       [0.22274541, 0.17920925],\n",
       "       [0.10811448, 0.83604592],\n",
       "       [0.6755035 , 0.42445927],\n",
       "       [0.4557618 , 1.        ]])"
      ]
     },
     "execution_count": 106,
     "metadata": {},
     "output_type": "execute_result"
    }
   ],
   "source": [
    "datra = scaler.fit(train1)\n",
    "scaled_train = datra.transform(train1)\n",
    "scaled_test = datra.transform(test1)\n",
    "scaled_test"
   ]
  },
  {
   "cell_type": "code",
   "execution_count": 107,
   "metadata": {},
   "outputs": [],
   "source": [
    "n_input = 3\n",
    "n_features = 2\n",
    "generator = TimeseriesGenerator(scaled_train, scaled_train, length=n_input, batch_size=1)"
   ]
  },
  {
   "cell_type": "code",
   "execution_count": 108,
   "metadata": {},
   "outputs": [
    {
     "name": "stdout",
     "output_type": "stream",
     "text": [
      "Given the Array: \n",
      "[0.06978319 0.88489187 0.16249983 0.13132262 0.22274541 0.17920925]\n",
      "Predict this y: \n",
      " [[0.10811448 0.83604592]]\n"
     ]
    }
   ],
   "source": [
    "X,y = generator[0]\n",
    "print(f'Given the Array: \\n{X.flatten()}')\n",
    "print(f'Predict this y: \\n {y}')"
   ]
  },
  {
   "cell_type": "code",
   "execution_count": 109,
   "metadata": {},
   "outputs": [],
   "source": [
    "from keras.models import Sequential\n",
    "from keras.layers import Dense\n",
    "from keras.layers import LSTM"
   ]
  },
  {
   "cell_type": "code",
   "execution_count": 110,
   "metadata": {},
   "outputs": [],
   "source": [
    "model = Sequential()\n",
    "model.add(LSTM(100, activation='relu', input_shape=(n_input, n_features)))\n",
    "model.add(Dense(1))\n",
    "model.add(Dense(1))\n",
    "model.compile(optimizer='adam', loss='mse')"
   ]
  },
  {
   "cell_type": "code",
   "execution_count": 111,
   "metadata": {},
   "outputs": [
    {
     "name": "stdout",
     "output_type": "stream",
     "text": [
      "Epoch 1/100\n",
      "27/27 [==============================] - 2s 2ms/step - loss: 0.1831\n",
      "Epoch 2/100\n",
      "27/27 [==============================] - 0s 3ms/step - loss: 0.1042\n",
      "Epoch 3/100\n",
      "27/27 [==============================] - 0s 4ms/step - loss: 0.0989\n",
      "Epoch 4/100\n",
      "27/27 [==============================] - 0s 4ms/step - loss: 0.0969\n",
      "Epoch 5/100\n",
      "27/27 [==============================] - 0s 2ms/step - loss: 0.0957\n",
      "Epoch 6/100\n",
      "27/27 [==============================] - 0s 3ms/step - loss: 0.0939\n",
      "Epoch 7/100\n",
      "27/27 [==============================] - 0s 2ms/step - loss: 0.0950\n",
      "Epoch 8/100\n",
      "27/27 [==============================] - 0s 3ms/step - loss: 0.0924\n",
      "Epoch 9/100\n",
      "27/27 [==============================] - 0s 3ms/step - loss: 0.0899\n",
      "Epoch 10/100\n",
      "27/27 [==============================] - 0s 4ms/step - loss: 0.0926\n",
      "Epoch 11/100\n",
      "27/27 [==============================] - 0s 3ms/step - loss: 0.0927\n",
      "Epoch 12/100\n",
      "27/27 [==============================] - 0s 2ms/step - loss: 0.0892\n",
      "Epoch 13/100\n",
      "27/27 [==============================] - 0s 2ms/step - loss: 0.0886\n",
      "Epoch 14/100\n",
      "27/27 [==============================] - 0s 2ms/step - loss: 0.0875\n",
      "Epoch 15/100\n",
      "27/27 [==============================] - 0s 3ms/step - loss: 0.0869\n",
      "Epoch 16/100\n",
      "27/27 [==============================] - 0s 3ms/step - loss: 0.0835\n",
      "Epoch 17/100\n",
      "27/27 [==============================] - 0s 3ms/step - loss: 0.0854\n",
      "Epoch 18/100\n",
      "27/27 [==============================] - 0s 3ms/step - loss: 0.0827\n",
      "Epoch 19/100\n",
      "27/27 [==============================] - 0s 3ms/step - loss: 0.0818\n",
      "Epoch 20/100\n",
      "27/27 [==============================] - 0s 5ms/step - loss: 0.0849\n",
      "Epoch 21/100\n",
      "27/27 [==============================] - 0s 3ms/step - loss: 0.0857\n",
      "Epoch 22/100\n",
      "27/27 [==============================] - 0s 3ms/step - loss: 0.0831\n",
      "Epoch 23/100\n",
      "27/27 [==============================] - 0s 3ms/step - loss: 0.0809\n",
      "Epoch 24/100\n",
      "27/27 [==============================] - 0s 3ms/step - loss: 0.0795\n",
      "Epoch 25/100\n",
      "27/27 [==============================] - 0s 3ms/step - loss: 0.0807\n",
      "Epoch 26/100\n",
      "27/27 [==============================] - 0s 3ms/step - loss: 0.0801\n",
      "Epoch 27/100\n",
      "27/27 [==============================] - 0s 3ms/step - loss: 0.0797\n",
      "Epoch 28/100\n",
      "27/27 [==============================] - 0s 3ms/step - loss: 0.0816\n",
      "Epoch 29/100\n",
      "27/27 [==============================] - 0s 3ms/step - loss: 0.0788\n",
      "Epoch 30/100\n",
      "27/27 [==============================] - 0s 4ms/step - loss: 0.0857\n",
      "Epoch 31/100\n",
      "27/27 [==============================] - 0s 3ms/step - loss: 0.0751\n",
      "Epoch 32/100\n",
      "27/27 [==============================] - 0s 4ms/step - loss: 0.0798\n",
      "Epoch 33/100\n",
      "27/27 [==============================] - 0s 4ms/step - loss: 0.0807\n",
      "Epoch 34/100\n",
      "27/27 [==============================] - 0s 3ms/step - loss: 0.0784\n",
      "Epoch 35/100\n",
      "27/27 [==============================] - 0s 3ms/step - loss: 0.0768\n",
      "Epoch 36/100\n",
      "27/27 [==============================] - 0s 3ms/step - loss: 0.0763\n",
      "Epoch 37/100\n",
      "27/27 [==============================] - 0s 3ms/step - loss: 0.0809\n",
      "Epoch 38/100\n",
      "27/27 [==============================] - 0s 3ms/step - loss: 0.0828\n",
      "Epoch 39/100\n",
      "27/27 [==============================] - 0s 3ms/step - loss: 0.0756\n",
      "Epoch 40/100\n",
      "27/27 [==============================] - 0s 3ms/step - loss: 0.0732\n",
      "Epoch 41/100\n",
      "27/27 [==============================] - 0s 3ms/step - loss: 0.0755\n",
      "Epoch 42/100\n",
      "27/27 [==============================] - 0s 3ms/step - loss: 0.0730\n",
      "Epoch 43/100\n",
      "27/27 [==============================] - 0s 3ms/step - loss: 0.0716\n",
      "Epoch 44/100\n",
      "27/27 [==============================] - 0s 3ms/step - loss: 0.0698\n",
      "Epoch 45/100\n",
      "27/27 [==============================] - 0s 3ms/step - loss: 0.0777\n",
      "Epoch 46/100\n",
      "27/27 [==============================] - 0s 3ms/step - loss: 0.0724\n",
      "Epoch 47/100\n",
      "27/27 [==============================] - 0s 3ms/step - loss: 0.0695\n",
      "Epoch 48/100\n",
      "27/27 [==============================] - 0s 3ms/step - loss: 0.0741\n",
      "Epoch 49/100\n",
      "27/27 [==============================] - 0s 3ms/step - loss: 0.0724\n",
      "Epoch 50/100\n",
      "27/27 [==============================] - 0s 3ms/step - loss: 0.0683\n",
      "Epoch 51/100\n",
      "27/27 [==============================] - 0s 3ms/step - loss: 0.0695\n",
      "Epoch 52/100\n",
      "27/27 [==============================] - 0s 3ms/step - loss: 0.0672\n",
      "Epoch 53/100\n",
      "27/27 [==============================] - 0s 4ms/step - loss: 0.0726\n",
      "Epoch 54/100\n",
      "27/27 [==============================] - 0s 3ms/step - loss: 0.0683\n",
      "Epoch 55/100\n",
      "27/27 [==============================] - 0s 3ms/step - loss: 0.0671\n",
      "Epoch 56/100\n",
      "27/27 [==============================] - 0s 3ms/step - loss: 0.0648\n",
      "Epoch 57/100\n",
      "27/27 [==============================] - 0s 3ms/step - loss: 0.0669\n",
      "Epoch 58/100\n",
      "27/27 [==============================] - 0s 3ms/step - loss: 0.0648\n",
      "Epoch 59/100\n",
      "27/27 [==============================] - 0s 3ms/step - loss: 0.0627\n",
      "Epoch 60/100\n",
      "27/27 [==============================] - 0s 8ms/step - loss: 0.0626\n",
      "Epoch 61/100\n",
      "27/27 [==============================] - 1s 9ms/step - loss: 0.0657\n",
      "Epoch 62/100\n",
      "27/27 [==============================] - 0s 10ms/step - loss: 0.0653\n",
      "Epoch 63/100\n",
      "27/27 [==============================] - 0s 3ms/step - loss: 0.0633\n",
      "Epoch 64/100\n",
      "27/27 [==============================] - 0s 3ms/step - loss: 0.0639\n",
      "Epoch 65/100\n",
      "27/27 [==============================] - 0s 4ms/step - loss: 0.0637\n",
      "Epoch 66/100\n",
      "27/27 [==============================] - 0s 3ms/step - loss: 0.0620\n",
      "Epoch 67/100\n",
      "27/27 [==============================] - 0s 3ms/step - loss: 0.0661\n",
      "Epoch 68/100\n",
      "27/27 [==============================] - 0s 3ms/step - loss: 0.0654\n",
      "Epoch 69/100\n",
      "27/27 [==============================] - 0s 3ms/step - loss: 0.0611\n",
      "Epoch 70/100\n",
      "27/27 [==============================] - 0s 5ms/step - loss: 0.0622\n",
      "Epoch 71/100\n",
      "27/27 [==============================] - 0s 5ms/step - loss: 0.0625\n",
      "Epoch 72/100\n",
      "27/27 [==============================] - 0s 4ms/step - loss: 0.0561\n",
      "Epoch 73/100\n",
      "27/27 [==============================] - 0s 3ms/step - loss: 0.0601\n",
      "Epoch 74/100\n",
      "27/27 [==============================] - 0s 3ms/step - loss: 0.0585\n",
      "Epoch 75/100\n",
      "27/27 [==============================] - 0s 4ms/step - loss: 0.0567\n",
      "Epoch 76/100\n",
      "27/27 [==============================] - 0s 5ms/step - loss: 0.0575\n",
      "Epoch 77/100\n",
      "27/27 [==============================] - 0s 4ms/step - loss: 0.0556\n",
      "Epoch 78/100\n",
      "27/27 [==============================] - 0s 4ms/step - loss: 0.0594\n",
      "Epoch 79/100\n",
      "27/27 [==============================] - 0s 6ms/step - loss: 0.0587\n",
      "Epoch 80/100\n",
      "27/27 [==============================] - 0s 3ms/step - loss: 0.0554\n",
      "Epoch 81/100\n",
      "27/27 [==============================] - 0s 3ms/step - loss: 0.0542\n",
      "Epoch 82/100\n",
      "27/27 [==============================] - 0s 5ms/step - loss: 0.0532\n",
      "Epoch 83/100\n",
      "27/27 [==============================] - 0s 4ms/step - loss: 0.0567\n",
      "Epoch 84/100\n",
      "27/27 [==============================] - 0s 4ms/step - loss: 0.0536\n",
      "Epoch 85/100\n",
      "27/27 [==============================] - 0s 5ms/step - loss: 0.0527\n",
      "Epoch 86/100\n",
      "27/27 [==============================] - 0s 4ms/step - loss: 0.0540\n",
      "Epoch 87/100\n",
      "27/27 [==============================] - 0s 4ms/step - loss: 0.0543\n",
      "Epoch 88/100\n",
      "27/27 [==============================] - 0s 4ms/step - loss: 0.0554\n",
      "Epoch 89/100\n",
      "27/27 [==============================] - 0s 3ms/step - loss: 0.0528\n",
      "Epoch 90/100\n",
      "27/27 [==============================] - 0s 3ms/step - loss: 0.0532\n",
      "Epoch 91/100\n",
      "27/27 [==============================] - 0s 2ms/step - loss: 0.0510\n",
      "Epoch 92/100\n",
      "27/27 [==============================] - 0s 5ms/step - loss: 0.0507\n",
      "Epoch 93/100\n",
      "27/27 [==============================] - 0s 3ms/step - loss: 0.0518\n",
      "Epoch 94/100\n",
      "27/27 [==============================] - 0s 3ms/step - loss: 0.0503\n",
      "Epoch 95/100\n",
      "27/27 [==============================] - 0s 3ms/step - loss: 0.0532\n",
      "Epoch 96/100\n",
      "27/27 [==============================] - 0s 3ms/step - loss: 0.0502\n",
      "Epoch 97/100\n",
      "27/27 [==============================] - 0s 3ms/step - loss: 0.0490\n",
      "Epoch 98/100\n",
      "27/27 [==============================] - 0s 3ms/step - loss: 0.0496\n",
      "Epoch 99/100\n",
      "27/27 [==============================] - 0s 3ms/step - loss: 0.0477\n",
      "Epoch 100/100\n",
      "27/27 [==============================] - 0s 3ms/step - loss: 0.0488\n"
     ]
    },
    {
     "data": {
      "text/plain": [
       "(None, 3, 2)"
      ]
     },
     "execution_count": 111,
     "metadata": {},
     "output_type": "execute_result"
    }
   ],
   "source": [
    "model.fit(generator,epochs=100)\n",
    "model.input_shape\n"
   ]
  },
  {
   "cell_type": "code",
   "execution_count": 119,
   "metadata": {},
   "outputs": [],
   "source": [
    "last_train_batch = scaled_test\n",
    "last_train_batch = last_train_batch.reshape((2,3,n_features))\n"
   ]
  },
  {
   "cell_type": "code",
   "execution_count": null,
   "metadata": {},
   "outputs": [],
   "source": []
  },
  {
   "cell_type": "code",
   "execution_count": 116,
   "metadata": {},
   "outputs": [
    {
     "name": "stdout",
     "output_type": "stream",
     "text": [
      "1/1 [==============================] - 0s 49ms/step\n"
     ]
    }
   ],
   "source": [
    "model.predict(last_train_batch)\n",
    "x0 = [[0.4352999,0.7217424],[0.53012108, 0.62524348]]\n"
   ]
  },
  {
   "cell_type": "code",
   "execution_count": 117,
   "metadata": {},
   "outputs": [
    {
     "data": {
      "text/plain": [
       "array([[12.99172476, 80.22728737],\n",
       "       [13.0142588 , 80.22263209]])"
      ]
     },
     "execution_count": 117,
     "metadata": {},
     "output_type": "execute_result"
    }
   ],
   "source": [
    "scaler.inverse_transform(X=x0)"
   ]
  },
  {
   "cell_type": "code",
   "execution_count": null,
   "metadata": {},
   "outputs": [],
   "source": [
    "\n",
    "map9 = folium.Map(location=[13.081689, 80.269032],tiles=\"Stamen Toner\")\n",
    "for i,j in test.iterrows():\n",
    "    folium.Marker(list((j['Lattitude'],j['Longitude']))).add_to(map9)\n"
   ]
  },
  {
   "cell_type": "code",
   "execution_count": 140,
   "metadata": {},
   "outputs": [
    {
     "name": "stdout",
     "output_type": "stream",
     "text": [
      "(13.1121242, 80.245022)\n"
     ]
    }
   ],
   "source": [
    "from geopy.geocoders import Nominatim\n",
    "geolocator = Nominatim(user_agent=\"DemandPrediction\")\n",
    "location = geolocator.geocode(\"Perambur\")\n",
    "print((location.latitude, location.longitude))"
   ]
  },
  {
   "cell_type": "code",
   "execution_count": null,
   "metadata": {},
   "outputs": [],
   "source": []
  }
 ],
 "metadata": {
  "kernelspec": {
   "display_name": "Python 3",
   "language": "python",
   "name": "python3"
  },
  "language_info": {
   "codemirror_mode": {
    "name": "ipython",
    "version": 3
   },
   "file_extension": ".py",
   "mimetype": "text/x-python",
   "name": "python",
   "nbconvert_exporter": "python",
   "pygments_lexer": "ipython3",
   "version": "3.10.10"
  },
  "orig_nbformat": 4,
  "vscode": {
   "interpreter": {
    "hash": "d3a88e95d51175a7bba8e9f91cb3832887de5ea1830d128b80def99559abfb81"
   }
  }
 },
 "nbformat": 4,
 "nbformat_minor": 2
}
